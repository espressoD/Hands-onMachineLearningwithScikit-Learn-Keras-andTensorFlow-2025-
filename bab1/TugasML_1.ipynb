{
 "cells": [
  {
   "cell_type": "markdown",
   "metadata": {},
   "source": [
    "# 📝 Notebook - Teori Bab 1: Peta Dunia Machine Learning\n",
    "\n",
    "Selamat datang di notebook untuk Bab 1! Di sini, kita akan mengulas konsep-konsep fundamental Machine Learning yang dijelaskan dalam buku \"Hands-On Machine Learning.\" Setiap bagian akan berisi penjelasan teoretis dan contoh kode Python yang bisa Anda jalankan untuk mendapatkan pemahaman praktis."
   ]
  },
  {
   "cell_type": "markdown",
   "metadata": {},
   "source": [
    "## 1. Apa Itu Machine Learning?\n",
    "\n",
    "Secara sederhana, **Machine Learning (ML)** adalah ilmu yang memprogram komputer agar dapat **belajar dari data**. Alih-alih menulis aturan-aturan eksplisit (seperti `if-else` yang sangat banyak), kita memberikan banyak contoh kepada sebuah algoritma, dan algoritma itu akan \"belajar\" pola dari data tersebut.\n",
    "\n",
    "**Analogi:**\n",
    "* **Pendekatan Tradisional:** Anda membuat program filter spam dengan menulis daftar kata kunci yang dilarang (misalnya, \"gratis\", \"diskon\", \"pemenang\"). Jika spammer mengganti kata, Anda harus memperbarui daftar itu secara manual.\n",
    "* **Pendekatan ML:** Anda memberikan ribuan contoh email spam dan non-spam kepada model ML. Model akan belajar sendiri kata-kata atau pola mana yang paling sering muncul di email spam. Jika spammer mengganti taktik, model bisa beradaptasi dengan mempelajari data baru."
   ]
  },
  {
   "cell_type": "markdown",
   "metadata": {},
   "source": [
    "### Contoh Kode: Bedanya Aturan vs. Belajar\n",
    "\n",
    "Kode berikut hanya ilustrasi konseptual, tidak menjalankan model ML."
   ]
  },
  {
   "cell_type": "code",
   "execution_count": null,
   "metadata": {},
   "outputs": [],
   "source": [
    "# Pendekatan Tradisional (Aturan Eksplisit)\n",
    "def filter_spam_tradisional(email_subject):\n",
    "    \"\"\"Filter spam berdasarkan daftar kata kunci.\"\"\"\n",
    "    kata_kunci_spam = [\"gratis\", \"promo\", \"diskon besar\"]\n",
    "    for kata in kata_kunci_spam:\n",
    "        if kata in email_subject.lower():\n",
    "            return \"Ini adalah SPAM\"\n",
    "    return \"Ini BUKAN spam\"\n",
    "\n",
    "# Contoh penggunaan\n",
    "print(f\"Email 1: 'Dapatkan diskon besar!' -> {filter_spam_tradisional('Dapatkan diskon besar!')}\")\n",
    "print(f\"Email 2: 'Jadwal rapat besok' -> {filter_spam_tradisional('Jadwal rapat besok')}\")\n",
    "\n",
    "# Pendekatan ML (Konsep)\n",
    "# 1. Kumpulkan ribuan email dan labelnya (spam/bukan spam)\n",
    "# 2. Pilih sebuah algoritma (misalnya, Naive Bayes atau SVM)\n",
    "# 3. \"Latih\" algoritma tersebut dengan data yang sudah dikumpulkan\n",
    "# 4. Model yang sudah terlatih kini bisa memprediksi email baru\n",
    "# (Kita akan coba kode nyatanya di bagian selanjutnya)"
   ]
  },
  {
   "cell_type": "markdown",
   "metadata": {},
   "source": [
    "## 2. Tipe-Tipe Sistem Machine Learning\n",
    "\n",
    "Sistem ML dapat dikategorikan berdasarkan beberapa kriteria."
   ]
  },
  {
   "cell_type": "markdown",
   "metadata": {},
   "source": [
    "### a. Berdasarkan Supervisi Manusia"
   ]
  },
  {
   "cell_type": "markdown",
   "metadata": {},
   "source": [
    "#### Supervised Learning (Pembelajaran Terarah)\n",
    "\n",
    "Ini adalah jenis ML yang paling umum. Anda melatih model dengan data yang sudah diberi **label** atau jawaban yang benar. Tujuannya adalah agar model bisa memprediksi label untuk data baru yang belum pernah dilihat.\n",
    "\n",
    "* **Klasifikasi (Classification):** Memprediksi kategori. Contoh: filter spam (spam/bukan spam), deteksi tumor (ganas/jinak).\n",
    "* **Regresi (Regression):** Memprediksi nilai numerik. Contoh: memprediksi harga rumah berdasarkan luasnya, memprediksi suhu besok."
   ]
  },
  {
   "cell_type": "code",
   "execution_count": null,
   "metadata": {},
   "outputs": [],
   "source": [
    "# Contoh Supervised Learning: Regresi dengan Scikit-Learn\n",
    "from sklearn.linear_model import LinearRegression\n",
    "import numpy as np\n",
    "\n",
    "# Data: Luas rumah (fitur) dan Harga rumah (label)\n",
    "# Fitur (X) harus dalam format 2D, Label (y) dalam 1D\n",
    "X = np.array([[50], [70], [100], [120]]) # Luas dalam m^2\n",
    "y = np.array([500, 750, 1100, 1300])    # Harga dalam juta Rupiah\n",
    "\n",
    "# 1. Pilih model\n",
    "model_regresi = LinearRegression()\n",
    "\n",
    "# 2. Latih model dengan data ber-label\n",
    "model_regresi.fit(X, y)\n",
    "\n",
    "# 3. Buat prediksi untuk data baru\n",
    "luas_rumah_baru = np.array([[80]]) # Rumah seluas 80 m^2\n",
    "prediksi_harga = model_regresi.predict(luas_rumah_baru)\n",
    "\n",
    "print(f\"Prediksi harga untuk rumah seluas 80 m^2 adalah: {prediksi_harga[0]:.2f} juta Rupiah\")"
   ]
  },
  {
   "cell_type": "markdown",
   "metadata": {},
   "source": [
    "#### Unsupervised Learning (Pembelajaran Tak Terarah)\n",
    "Di sini, data yang Anda gunakan **tidak memiliki label**. Model mencoba menemukan pola atau struktur tersembunyi dalam data dengan sendirinya.\n",
    "\n",
    "* **Klastering (Clustering):** Mengelompokkan data yang mirip. Contoh: segmentasi pelanggan berdasarkan perilaku belanja.\n",
    "* **Deteksi Anomali (Anomaly Detection):** Menemukan data yang aneh atau tidak biasa. Contoh: deteksi transaksi kartu kredit penipuan.\n",
    "* **Pengurangan Dimensi (Dimensionality Reduction):** Menyederhanakan data dengan mengurangi jumlah fitur tanpa kehilangan banyak informasi."
   ]
  },
  {
   "cell_type": "code",
   "execution_count": null,
   "metadata": {},
   "outputs": [],
   "source": [
    "# Contoh Unsupervised Learning: Klastering dengan Scikit-Learn\n",
    "from sklearn.cluster import KMeans\n",
    "import numpy as np\n",
    "\n",
    "# Data: Kunjungan pelanggan (tanpa label)\n",
    "# Fitur: [jumlah pembelian, total nilai belanja]\n",
    "X = np.array([\n",
    "    [5, 500], [10, 1100], [6, 650],  # Cluster 1: Pelanggan loyal\n",
    "    [20, 250], [25, 300], [22, 280], # Cluster 2: Pelanggan hemat\n",
    "    [8, 1200], [2, 300]\n",
    "])\n",
    "\n",
    "# 1. Pilih model (misalnya, kita ingin 2 kelompok pelanggan)\n",
    "model_klaster = KMeans(n_clusters=2, random_state=42)\n",
    "\n",
    "# 2. Latih model dengan data tanpa label\n",
    "model_klaster.fit(X)\n",
    "\n",
    "# 3. Lihat hasil pengelompokan (label yang dibuat oleh model)\n",
    "print(f\"Label cluster untuk setiap pelanggan: {model_klaster.labels_}\")\n",
    "\n",
    "# Prediksi cluster untuk pelanggan baru\n",
    "pelanggan_baru = np.array([[7, 700]])\n",
    "prediksi_cluster = model_klaster.predict(pelanggan_baru)\n",
    "print(f\"Pelanggan baru masuk ke cluster: {prediksi_cluster[0]}\")"
   ]
  },
  {
   "cell_type": "markdown",
   "metadata": {},
   "source": [
    "#### Reinforcement Learning (Pembelajaran Penguatan)\n",
    "Ini adalah jenis pembelajaran yang sangat berbeda. Sebuah **agen** belajar dengan berinteraksi dalam sebuah **lingkungan**. Agen melakukan **aksi** dan menerima **reward** (hadiah) atau **penalty** (hukuman). Tujuannya adalah memaksimalkan total reward.\n",
    "Contoh: robot yang belajar berjalan, AI yang bermain catur atau Go, sistem pemanas yang belajar menghemat energi."
   ]
  },
  {
   "cell_type": "markdown",
   "metadata": {},
   "source": [
    "### b. Berdasarkan Cara Belajar"
   ]
  },
  {
   "cell_type": "markdown",
   "metadata": {},
   "source": [
    "#### Batch Learning (Offline Learning)\n",
    "Model dilatih menggunakan semua data yang tersedia sekaligus. Ini bisa memakan waktu dan sumber daya. Setelah dilatih, model diluncurkan ke produksi dan tidak belajar lagi. Untuk membuatnya belajar data baru, Anda harus melatih ulang model dari awal dengan dataset penuh (data lama + data baru).\n",
    "\n",
    "#### Online Learning\n",
    "Model dilatih secara bertahap (inkremental), baik satu per satu data atau dalam kelompok kecil (mini-batch). Ini bagus untuk sistem yang perlu beradaptasi dengan perubahan data secara cepat atau untuk dataset yang sangat besar dan tidak muat di memori."
   ]
  },
  {
   "cell_type": "code",
   "execution_count": null,
   "metadata": {},
   "outputs": [],
   "source": [
    "# Simulasi Online Learning dengan Scikit-Learn\n",
    "from sklearn.linear_model import SGDRegressor\n",
    "import numpy as np\n",
    "\n",
    "# Model yang mendukung pembelajaran inkremental\n",
    "model_online = SGDRegressor()\n",
    "\n",
    "# Data datang secara bertahap\n",
    "X1, y1 = np.array([[50]]), np.array([500])\n",
    "X2, y2 = np.array([[70]]), np.array([750])\n",
    "\n",
    "# Latih pada data pertama\n",
    "model_online.partial_fit(X1, y1.ravel())\n",
    "print(\"Prediksi setelah data 1:\", model_online.predict([[80]]))\n",
    "\n",
    "# Latih pada data kedua (melanjutkan dari sebelumnya)\n",
    "model_online.partial_fit(X2, y2.ravel())\n",
    "print(\"Prediksi setelah data 2:\", model_online.predict([[80]]))"
   ]
  },
  {
   "cell_type": "markdown",
   "metadata": {},
   "source": [
    "### c. Berdasarkan Cara Generalisasi"
   ]
  },
  {
   "cell_type": "markdown",
   "metadata": {},
   "source": [
    "#### Instance-Based Learning\n",
    "Sistem ini belajar dengan cara menghafal contoh-contoh data. Saat prediksi dibutuhkan, ia membandingkan data baru dengan data yang dihafal menggunakan **ukuran kemiripan** dan membuat prediksi berdasarkan contoh yang paling mirip."
   ]
  },
  {
   "cell_type": "code",
   "execution_count": null,
   "metadata": {},
   "outputs": [],
   "source": [
    "# Contoh Instance-Based Learning: K-Nearest Neighbors (KNN)\n",
    "from sklearn.neighbors import KNeighborsClassifier\n",
    "import numpy as np\n",
    "\n",
    "# Data: [tinggi, berat] dan label (0: normal, 1: obesitas)\n",
    "X = np.array([[170, 60], [175, 65], [160, 80], [165, 85]])\n",
    "y = np.array([0, 0, 1, 1])\n",
    "\n",
    "model_knn = KNeighborsClassifier(n_neighbors=3)\n",
    "model_knn.fit(X, y)\n",
    "\n",
    "# Data baru: tinggi 172, berat 82\n",
    "data_baru = np.array([[172, 82]])\n",
    "\n",
    "# Prediksi berdasarkan 3 tetangga terdekat\n",
    "prediksi = model_knn.predict(data_baru)\n",
    "print(f\"Prediksi untuk data baru [172, 82] adalah: {'Obesitas' if prediksi[0] == 1 else 'Normal'}\")"
   ]
  },
  {
   "cell_type": "markdown",
   "metadata": {},
   "source": [
    "#### Model-Based Learning\n",
    "Sistem ini membangun sebuah **model** (representasi matematis) dari data latih. Saat prediksi dibutuhkan, ia menggunakan model ini untuk membuat prediksi. Tujuannya adalah menggeneralisasi dengan baik ke data baru."
   ]
  },
  {
   "cell_type": "code",
   "execution_count": null,
   "metadata": {},
   "outputs": [],
   "source": [
    "# Contoh Model-Based Learning: Linear Regression (yang sudah kita coba)\n",
    "# Model Linear Regression di atas tidak menghafal data,\n",
    "# melainkan membangun sebuah model (persamaan garis y = mx + c).\n",
    "# Ia menemukan nilai m (slope) dan c (intercept) terbaik.\n",
    "\n",
    "# Bobot (model) yang dipelajari:\n",
    "slope = model_regresi.coef_\n",
    "intercept = model_regresi.intercept_\n",
    "\n",
    "print(f\"Model yang dipelajari: harga = {slope[0]:.2f} * luas + {intercept:.2f}\")\n",
    "\n",
    "# Prediksi dibuat menggunakan rumus ini, bukan dengan membandingkan data."
   ]
  },
  {
   "cell_type": "markdown",
   "metadata": {},
   "source": [
    "## 3. Tantangan Utama dalam Machine Learning\n"
   ]
  },
  {
   "cell_type": "markdown",
   "metadata": {},
   "source": [
    "### a. \"Bad Data\" - Masalah pada Data\n",
    "\n",
    "* **Jumlah Data yang Tidak Cukup:** Algoritma ML butuh banyak data untuk bisa bekerja dengan baik. Untuk masalah kompleks, bisa butuh jutaan contoh.\n",
    "* **Data yang Tidak Representatif:** Jika data latih Anda tidak mencerminkan data yang akan dihadapi di dunia nyata, model tidak akan bisa generalisasi dengan baik. Ini disebut *sampling bias*.\n",
    "* **Data Berkualitas Buruk:** Data yang penuh error, *outlier*, dan noise akan menyulitkan model untuk mendeteksi pola yang sebenarnya.\n",
    "* **Fitur yang Tidak Relevan:** Pepatah \"sampah masuk, sampah keluar\" berlaku di sini. Jika data latih penuh dengan fitur yang tidak relevan, model akan sulit belajar. Proses memilih fitur yang baik disebut *feature engineering*."
   ]
  },
  {
   "cell_type": "markdown",
   "metadata": {},
   "source": [
    "### b. \"Bad Algorithm\" - Masalah pada Algoritma"
   ]
  },
  {
   "cell_type": "markdown",
   "metadata": {},
   "source": [
    "#### Overfitting (Terlalu Pas)\n",
    "Model bekerja sangat baik pada data latih, tetapi performanya buruk pada data baru. Ini terjadi ketika model terlalu kompleks relatif terhadap jumlah dan kebisingan data, sehingga ia akhirnya menghafal data latih beserta noise-nya.\n",
    "\n",
    "#### Underfitting (Kurang Pas)\n",
    "Model terlalu sederhana untuk mempelajari struktur data. Performanya buruk baik di data latih maupun data baru. Ini terjadi karena model tidak cukup kuat untuk menangkap pola yang ada."
   ]
  },
  {
   "cell_type": "markdown",
   "metadata": {},
   "source": [
    "### Contoh Kode: Overfitting dan Underfitting\n",
    "\n",
    "Kita akan menggunakan `PolynomialFeatures` untuk menunjukkan ini. Garis lurus (derajat 1) akan *underfit*, sedangkan polinomial derajat tinggi akan *overfit*."
   ]
  },
  {
   "cell_type": "code",
   "execution_count": null,
   "metadata": {},
   "outputs": [],
   "source": [
    "import matplotlib.pyplot as plt\n",
    "import numpy as np\n",
    "\n",
    "# Data kuadratik dengan noise\n",
    "np.random.seed(42)\n",
    "m = 100\n",
    "X = 6 * np.random.rand(m, 1) - 3\n",
    "y = 0.5 * X**2 + X + 2 + np.random.randn(m, 1)\n",
    "\n",
    "plt.scatter(X, y, s=10)\n",
    "plt.title(\"Data Asli\")\n",
    "plt.show()\n",
    "\n",
    "from sklearn.preprocessing import PolynomialFeatures\n",
    "from sklearn.linear_model import LinearRegression\n",
    "from sklearn.pipeline import make_pipeline\n",
    "\n",
    "# Model Underfitting (garis lurus)\n",
    "model_underfit = make_pipeline(PolynomialFeatures(degree=1), LinearRegression())\n",
    "model_underfit.fit(X, y)\n",
    "\n",
    "# Model Overfitting (polinomial derajat tinggi)\n",
    "model_overfit = make_pipeline(PolynomialFeatures(degree=30), LinearRegression())\n",
    "model_overfit.fit(X, y)\n",
    "\n",
    "# Model yang \"pas\"\n",
    "model_goodfit = make_pipeline(PolynomialFeatures(degree=2), LinearRegression())\n",
    "model_goodfit.fit(X, y)\n",
    "\n",
    "# Plot hasil\n",
    "X_new = np.linspace(-3, 3, 100).reshape(100, 1)\n",
    "y_under = model_underfit.predict(X_new)\n",
    "y_over = model_overfit.predict(X_new)\n",
    "y_good = model_goodfit.predict(X_new)\n",
    "\n",
    "plt.scatter(X, y, s=10)\n",
    "plt.plot(X_new, y_under, 'r-', label=\"Underfitting (Derajat 1)\")\n",
    "plt.plot(X_new, y_over, 'g-', label=\"Overfitting (Derajat 30)\")\n",
    "plt.plot(X_new, y_good, 'b-', label=\"Good Fit (Derajat 2)\")\n",
    "plt.legend()\n",
    "plt.ylim(top=12)\n",
    "plt.show()"
   ]
  },
  {
   "cell_type": "markdown",
   "metadata": {},
   "source": [
    "**Analisis Plot:**\n",
    "* **Merah (Underfitting):** Garis lurus terlalu sederhana untuk menangkap pola melengkung dari data.\n",
    "* **Hijau (Overfitting):** Garis yang berliku-liku ini mencoba melewati setiap titik data, termasuk noise. Ia akan sangat buruk jika diberi data baru.\n",
    "* **Biru (Good Fit):** Garis ini menangkap tren umum dari data tanpa harus menghafal noise."
   ]
  },
  {
   "cell_type": "markdown",
   "metadata": {},
   "source": [
    "## 4. Testing dan Validasi\n",
    "\n",
    "Bagaimana kita tahu seberapa baik sebuah model akan bekerja pada data baru? Jawabannya adalah dengan menguji.\n",
    "\n",
    "Cara terbaik adalah membagi data Anda menjadi dua set: **training set** (untuk melatih model) dan **test set** (untuk menguji model). Error pada test set disebut *generalization error* dan memberikan estimasi seberapa baik performa model Anda di dunia nyata."
   ]
  },
  {
   "cell_type": "markdown",
   "metadata": {},
   "source": [
    "### Contoh Kode: Membagi Data"
   ]
  },
  {
   "cell_type": "code",
   "execution_count": null,
   "metadata": {},
   "outputs": [],
   "source": [
    "from sklearn.model_selection import train_test_split\n",
    "\n",
    "# Misalkan kita punya data X dan y yang lebih besar\n",
    "X_full = 6 * np.random.rand(200, 1) - 3\n",
    "y_full = 0.5 * X_full**2 + X_full + 2 + np.random.randn(200, 1)\n",
    "\n",
    "# Bagi data: 80% untuk training, 20% untuk testing\n",
    "X_train, X_test, y_train, y_test = train_test_split(X_full, y_full, test_size=0.2, random_state=42)\n",
    "\n",
    "print(f\"Jumlah data training: {len(X_train)}\")\n",
    "print(f\"Jumlah data testing: {len(X_test)}\")\n",
    "\n",
    "# Sekarang Anda akan melatih model HANYA pada X_train dan y_train,\n",
    "# lalu mengujinya pada X_test dan y_test.\n",
    "# Anda TIDAK PERNAH boleh melihat test set selama proses pengembangan model."
   ]
  }
 ],
 "metadata": {
  "kernelspec": {
   "display_name": "Python 3",
   "language": "python",
   "name": "python3"
  },
  "language_info": {
   "codemirror_mode": {
    "name": "ipython",
    "version": 3
   },
   "file_extension": ".py",
   "mimetype": "text/x-python",
   "name": "python",
   "nbconvert_exporter": "python",
   "pygments_lexer": "ipython3",
   "version": "3.8.5"
  }
 },
 "nbformat": 4,
 "nbformat_minor": 4
}